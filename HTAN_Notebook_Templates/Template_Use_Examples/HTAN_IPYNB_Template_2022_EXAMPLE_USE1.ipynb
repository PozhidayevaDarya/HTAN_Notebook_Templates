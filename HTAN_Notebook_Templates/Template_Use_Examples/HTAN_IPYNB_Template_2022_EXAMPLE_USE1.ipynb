{
 "cells": [
  {
   "cell_type": "markdown",
   "metadata": {},
   "source": [
    "# A Super Cool HTAN Analysis"
   ]
  },
  {
   "cell_type": "markdown",
   "metadata": {},
   "source": [
    "        Title:   A super cool analysis.\n",
    "        Author:  Dar'ya Y. Pozhidayeva (dpozhiday@systemsbiology.edu)\n",
    "        Created: 05-02-2022\n",
    "        Purpose: To produce a cool analysis."
   ]
  },
  {
   "cell_type": "markdown",
   "metadata": {},
   "source": [
    "# 1. Introduction & Overview\n",
    "[HTAN](https://humantumoratlas.org/) is a National Cancer Institute (NCI)-funded Cancer MoonshotSM initiative to construct 3-dimensional atlases of the dynamic cellular, morphological, and molecular features of human cancers as they evolve from precancerous lesions to advanced disease. [Cell April 2020](https://www.sciencedirect.com/science/article/pii/S0092867420303469) \n",
    "\n",
    "This notebook shows one example of how data can be accessed and analyzed using Python.\n",
    "\n",
    "### 1.1 Goal\n",
    "\n",
    "The goal of this notebook is to show the user how HTAN data can be used to produce the super cool analysis pipline in python.\n",
    "\n",
    "### 1.2 Inputs, Outputs, & Data (if applicable)\n",
    "\n",
    "Inputs for this analysis include:\n",
    "Some super cool data from x and y.\n",
    "\n",
    "### 1.3 Notes (if applicable) "
   ]
  },
  {
   "cell_type": "code",
   "execution_count": null,
   "metadata": {},
   "outputs": [],
   "source": [
    "# Center figures\n",
    "from IPython.core.display import HTML\n",
    "HTML(\"\"\"\n",
    "<style>\n",
    ".output_png {\n",
    "    display: table-cell;\n",
    "    text-align: center;\n",
    "    vertical-align: middle;\n",
    "}\n",
    "</style>\n",
    "\"\"\")"
   ]
  },
  {
   "cell_type": "markdown",
   "metadata": {},
   "source": [
    "# 2. Environment & Module Setup"
   ]
  },
  {
   "cell_type": "code",
   "execution_count": null,
   "metadata": {},
   "outputs": [],
   "source": [
    "#List your additional libraries here\n",
    "from google.cloud import bigquery\n",
    "from google.colab import auth"
   ]
  },
  {
   "cell_type": "markdown",
   "metadata": {},
   "source": [
    "# 3. Google Authentication\n",
    "\n",
    "Running the BigQuery cells in this notebook requires a Google Cloud Project, instructions for creating a project can be found in the [Google Documentation](https://cloud.google.com/resource-manager/docs/creating-managing-projects#console). The instance needs to be authorized to bill the project for queries. For more information on getting started in the cloud see 'Quick Start Guide to ISB-CGC' and alternative authentication methods can be found in the [Google Documentation](https://cloud.google.com/resource-manager/docs/creating-managing-projects#console)."
   ]
  },
  {
   "cell_type": "code",
   "execution_count": null,
   "metadata": {},
   "outputs": [],
   "source": [
    "# if you're using Google Colab, authenticate to gcloud with the following\n",
    "auth.authenticate_user()\n",
    "# alternatively, use the gcloud SDK\n",
    "#!gcloud auth application-default login"
   ]
  },
  {
   "cell_type": "code",
   "execution_count": null,
   "metadata": {},
   "outputs": [],
   "source": [
    "## Setup ##\n",
    "\n",
    "# set the google project that will be billed for this notebook's computations\n",
    "google_project = 'htan-dcc'\n",
    "\n",
    "# Create a client to access the data within BigQuery\n",
    "client = bigquery.Client(google_project)"
   ]
  },
  {
   "cell_type": "markdown",
   "metadata": {},
   "source": [
    "# 4. The Super Cool Analysis\n",
    "Get the following data from BQ to perform the super cool analysis."
   ]
  },
  {
   "cell_type": "code",
   "execution_count": null,
   "metadata": {},
   "outputs": [],
   "source": [
    "# A matrix of gene counts from GC.\n",
    "X = client.query(\"\"\"\n",
    "  SELECT\n",
    "    iObs,\n",
    "    iVar,\n",
    "    X_value    \n",
    "  FROM\n",
    "    `htan-dcc.adata_immune_SCLC_samples_only_010920.X`\n",
    "  WHERE\n",
    "    iObs in (\n",
    "    SELECT \n",
    "      distinct(iObs) from \n",
    "      `htan-dcc.adata_immune_SCLC_samples_only_010920.obs`\n",
    "      where cell_type = 'Mast'\n",
    "    )\n",
    "    \"\"\").result().to_dataframe()"
   ]
  },
  {
   "cell_type": "markdown",
   "metadata": {},
   "source": [
    "### 4.1 SCA Step 1"
   ]
  },
  {
   "cell_type": "code",
   "execution_count": 1,
   "metadata": {},
   "outputs": [],
   "source": [
    "#Relevant code here"
   ]
  },
  {
   "cell_type": "markdown",
   "metadata": {},
   "source": [
    "### 4.2 SCA Step 2"
   ]
  },
  {
   "cell_type": "code",
   "execution_count": 2,
   "metadata": {},
   "outputs": [],
   "source": [
    "#Relevant code here"
   ]
  },
  {
   "cell_type": "markdown",
   "metadata": {},
   "source": [
    "### 4.3 SCA Step 3"
   ]
  },
  {
   "cell_type": "code",
   "execution_count": null,
   "metadata": {},
   "outputs": [],
   "source": [
    "#Relevant code here"
   ]
  },
  {
   "cell_type": "markdown",
   "metadata": {},
   "source": [
    "# 5. Relevant Citations and Links (if applicable)"
   ]
  }
 ],
 "metadata": {
  "kernelspec": {
   "display_name": "Python 3",
   "language": "python",
   "name": "python3"
  },
  "language_info": {
   "codemirror_mode": {
    "name": "ipython",
    "version": 3
   },
   "file_extension": ".py",
   "mimetype": "text/x-python",
   "name": "python",
   "nbconvert_exporter": "python",
   "pygments_lexer": "ipython3",
   "version": "3.8.0"
  }
 },
 "nbformat": 4,
 "nbformat_minor": 2
}
